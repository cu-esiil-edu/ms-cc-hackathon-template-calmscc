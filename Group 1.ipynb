{
 "cells": [
  {
   "cell_type": "markdown",
   "id": "517712c8",
   "metadata": {},
   "source": [
    "# The Best Carbonfootprint Calc to Use\n",
    "Shows the ins and outs of the wound\n"
   ]
  },
  {
   "cell_type": "code",
   "execution_count": null,
   "id": "7e8068eb",
   "metadata": {},
   "outputs": [
    {
     "name": "stdout",
     "output_type": "stream",
     "text": [
      "Estimated annual carbon emissions is:  7.243917\n"
     ]
    }
   ],
   "source": [
    "# User inputs\n",
    "miles_driven = float(input(\"Estimate how many miles you drive in a year: \"))\n",
    "miles_flew = float(input(\"Estimate how many miles you fly in a year: \"))\n",
    "kwh_used = float(input(\"Estimate the total kWh of electricity you use per year: \"))\n",
    "therms_used = float(input(\"Estimate the total therms of natural gas you use per year: \"))\n",
    "water_usage = float(input(\"Estimate how many minutes you usually spend in the shower per day: \"))\n",
    "chat_gpt = float(input(\"Estimate how many days in a year you use ChatGPT: \"))\n",
    "your_diet = float(input(\"Type 1.5 if you are vegan, 1.7 for vegetarian, 2.5 for omnivore, or 3.3 for high-meat diet: \"))\n",
    "\n",
    "# Convert inputs into metric tons\n",
    "car_emissions = miles_driven * 0.000404\n",
    "flight_emissions = miles_flew * 0.00016\n",
    "natural_gas_emissions = therms_used * 0.0053\n",
    "kwh_emissions = kwh_used * 0.000417\n",
    "chatgpt_emissions = chat_gpt * 0.25 * 0.000417  # assuming 15 mins/day at 0.25 kWh\n",
    "water_emissions = water_usage * 2.1 * 365 * 0.0000816  # 2.1 gallons/minute\n",
    "\n",
    "# Add diet emissions (already in metric tons)\n",
    "total_emissions = (\n",
    "    car_emissions +\n",
    "    flight_emissions +\n",
    "    natural_gas_emissions +\n",
    "    kwh_emissions +\n",
    "    chatgpt_emissions +\n",
    "    water_emissions +\n",
    "    your_diet\n",
    ")\n",
    "\n",
    "# Print result\n",
    "print(\"Estimated annual carbon emissions is:\", round(total_emissions, 2), \"metric tons CO₂e\")\n"
   ]
  }
 ],
 "metadata": {
  "kernelspec": {
   "display_name": "base",
   "language": "python",
   "name": "python3"
  },
  "language_info": {
   "codemirror_mode": {
    "name": "ipython",
    "version": 3
   },
   "file_extension": ".py",
   "mimetype": "text/x-python",
   "name": "python",
   "nbconvert_exporter": "python",
   "pygments_lexer": "ipython3",
   "version": "3.11.6"
  }
 },
 "nbformat": 4,
 "nbformat_minor": 5
}
